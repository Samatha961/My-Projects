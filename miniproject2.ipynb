{
 "cells": [
  {
   "cell_type": "code",
   "execution_count": 1,
   "id": "2c0579b4-fb05-4963-ab23-33655c15ec0d",
   "metadata": {},
   "outputs": [
    {
     "name": "stdout",
     "output_type": "stream",
     "text": [
      " welcome to the guessing game\n",
      " you have to guess a number from 1 to 100\n",
      " you have 3 attempts\n"
     ]
    },
    {
     "name": "stdin",
     "output_type": "stream",
     "text": [
      " select a number 25\n"
     ]
    },
    {
     "name": "stdout",
     "output_type": "stream",
     "text": [
      " think low\n",
      "Attempts remaining: 2\n"
     ]
    },
    {
     "name": "stdin",
     "output_type": "stream",
     "text": [
      " select a number 96\n"
     ]
    },
    {
     "name": "stdout",
     "output_type": "stream",
     "text": [
      " think low\n",
      "Attempts remaining: 1\n"
     ]
    },
    {
     "name": "stdin",
     "output_type": "stream",
     "text": [
      " select a number 100\n"
     ]
    },
    {
     "name": "stdout",
     "output_type": "stream",
     "text": [
      " think low\n",
      "Attempts remaining: 0\n",
      " oops! given 0 attempts have completed. sorry\n"
     ]
    }
   ],
   "source": [
    "game = 20\n",
    "attempts = 3\n",
    "print(\" welcome to the guessing game\")\n",
    "print(\" you have to guess a number from 1 to 100\")\n",
    "print(f\" you have {attempts} attempts\")\n",
    "while attempts >0:\n",
    "    guess = int(input(\" select a number\"))\n",
    "    if guess == game:\n",
    "        print(f\" hooray the num = {guess} you have choosen is correct \")\n",
    "        break\n",
    "    elif guess< game:\n",
    "        print(\" think high\")\n",
    "    else :\n",
    "        print(\" think low\")\n",
    "    attempts -= 1\n",
    "    print(f\"Attempts remaining: {attempts}\")\n",
    "    if attempts ==0:\n",
    "        print(f\" oops! given {attempts} attempts have completed. sorry\")"
   ]
  },
  {
   "cell_type": "code",
   "execution_count": null,
   "id": "9291e571-8dd0-4e37-9aa8-1fc3abeba5c0",
   "metadata": {},
   "outputs": [],
   "source": []
  }
 ],
 "metadata": {
  "kernelspec": {
   "display_name": "Python 3 (ipykernel)",
   "language": "python",
   "name": "python3"
  },
  "language_info": {
   "codemirror_mode": {
    "name": "ipython",
    "version": 3
   },
   "file_extension": ".py",
   "mimetype": "text/x-python",
   "name": "python",
   "nbconvert_exporter": "python",
   "pygments_lexer": "ipython3",
   "version": "3.12.4"
  }
 },
 "nbformat": 4,
 "nbformat_minor": 5
}
