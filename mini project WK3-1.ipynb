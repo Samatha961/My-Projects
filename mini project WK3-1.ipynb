{
 "cells": [
  {
   "cell_type": "code",
   "execution_count": 1,
   "id": "e29749c9-f3f3-4a69-9eb6-3ed727dfe8f1",
   "metadata": {},
   "outputs": [
    {
     "name": "stdout",
     "output_type": "stream",
     "text": [
      "Expenses:\n",
      "Name: Lunch, Amount: $15.00, Category: Food\n",
      "Name: Bus Ticket, Amount: $2.50, Category: Transport\n",
      "Name: Groceries, Amount: $50.00, Category: Food\n",
      "\n",
      "Summary of Expenses by Category:\n",
      "Food: $65.00\n",
      "Transport: $2.50\n"
     ]
    }
   ],
   "source": [
    "# Initialize lists, sets, and dictionaries\n",
    "expenses = []\n",
    "categories = set()\n",
    "\n",
    "def add_expense(name, amount, category):\n",
    "    # Use a tuple to store immutable expense data\n",
    "    expense_entry = (name, amount, category)\n",
    "    expenses.append(expense_entry)\n",
    "    categories.add(category)\n",
    "\n",
    "def summarize_expenses():\n",
    "    # Dictionary comprehension to summarize expenses by category\n",
    "    summary = {category: sum(amount for _, amount, cat in expenses if cat == category) for category in categories}\n",
    "    return summary\n",
    "\n",
    "def display_expenses():\n",
    "    print(\"Expenses:\")\n",
    "    for name, amount, category in expenses:\n",
    "        print(f\"Name: {name}, Amount: ${amount:.2f}, Category: {category}\")\n",
    "\n",
    "# Example usage\n",
    "add_expense(\"Lunch\", 15.00, \"Food\")\n",
    "add_expense(\"Bus Ticket\", 2.50, \"Transport\")\n",
    "add_expense(\"Groceries\", 50.00, \"Food\")\n",
    "\n",
    "display_expenses()\n",
    "\n",
    "# Print summary of expenses\n",
    "print(\"\\nSummary of Expenses by Category:\")\n",
    "summary = summarize_expenses()\n",
    "for category, total in summary.items():\n",
    "    print(f\"{category}: ${total:.2f}\")"
   ]
  },
  {
   "cell_type": "code",
   "execution_count": null,
   "id": "8c38d8e9-63b8-4b08-8de2-b3ccc26e0ca9",
   "metadata": {},
   "outputs": [],
   "source": []
  }
 ],
 "metadata": {
  "kernelspec": {
   "display_name": "Python 3 (ipykernel)",
   "language": "python",
   "name": "python3"
  },
  "language_info": {
   "codemirror_mode": {
    "name": "ipython",
    "version": 3
   },
   "file_extension": ".py",
   "mimetype": "text/x-python",
   "name": "python",
   "nbconvert_exporter": "python",
   "pygments_lexer": "ipython3",
   "version": "3.12.4"
  }
 },
 "nbformat": 4,
 "nbformat_minor": 5
}
