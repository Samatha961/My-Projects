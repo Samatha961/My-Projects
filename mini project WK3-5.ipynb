{
 "cells": [
  {
   "cell_type": "code",
   "execution_count": 1,
   "id": "6b864aa0-aeda-4360-b382-bc0b5c0d78bc",
   "metadata": {},
   "outputs": [
    {
     "name": "stdout",
     "output_type": "stream",
     "text": [
      "Movie 'Inception' added with genre 'Sci-Fi'.\n",
      "Movie 'The Dark Knight' added with genre 'Action'.\n",
      "Movie 'Interstellar' added with genre 'Sci-Fi'.\n",
      "Movie 'Toy Story' added with genre 'Animation'.\n",
      "Movie 'The Godfather' added with genre 'Drama'.\n",
      "User 'Alice' added with preferences: ['Sci-Fi', 'Drama'].\n",
      "User 'Bob' added with preferences: ['Action', 'Animation'].\n",
      "User 'Charlie' added with preferences: ['Drama', 'Animation'].\n",
      "Recommended movies for Alice: {'Interstellar', 'Inception', 'The Godfather'}\n",
      "Recommended movies for Bob: {'Toy Story', 'The Dark Knight'}\n",
      "Recommended movies for Charlie: {'Toy Story', 'The Godfather'}\n"
     ]
    }
   ],
   "source": [
    "# Movie Recommendation System\n",
    "class MovieRecommendationSystem:\n",
    "    def __init__(self):\n",
    "        self.movies = []  # List to store movie data\n",
    "        self.user_preferences = {}  # Dictionary to store user preferences\n",
    "\n",
    "    def add_movie(self, title, genre):\n",
    "        \"\"\"Add a new movie with a title and genre.\"\"\"\n",
    "        self.movies.append({'title': title, 'genre': genre})\n",
    "        print(f\"Movie '{title}' added with genre '{genre}'.\")\n",
    "\n",
    "    def add_user(self, username, preferred_genres):\n",
    "        \"\"\"Add a new user with their preferred genres.\"\"\"\n",
    "        self.user_preferences[username] = set(preferred_genres)\n",
    "        print(f\"User '{username}' added with preferences: {preferred_genres}.\")\n",
    "\n",
    "    def recommend_movies(self, username):\n",
    "        \"\"\"Recommend movies based on user preferences.\"\"\"\n",
    "        if username not in self.user_preferences:\n",
    "            print(f\"No user found with username '{username}'.\")\n",
    "            return []\n",
    "\n",
    "        preferred_genres = self.user_preferences[username]\n",
    "        recommendations = set()\n",
    "\n",
    "        for movie in self.movies:\n",
    "            if movie['genre'] in preferred_genres:\n",
    "                recommendations.add(movie['title'])\n",
    "\n",
    "        return recommendations\n",
    "\n",
    "    def recommend_for_all_users(self):\n",
    "        \"\"\"Recommend movies for all users based on their preferences.\"\"\"\n",
    "        for user in self.user_preferences.keys():\n",
    "            recommendations = self.recommend_movies(user)\n",
    "            print(f\"Recommended movies for {user}: {recommendations or 'No recommendations available.'}\")\n",
    "\n",
    "# Example usage of the MovieRecommendationSystem\n",
    "if __name__ == \"__main__\":\n",
    "    system = MovieRecommendationSystem()\n",
    "    \n",
    "    # Adding movies\n",
    "    system.add_movie(\"Inception\", \"Sci-Fi\")\n",
    "    system.add_movie(\"The Dark Knight\", \"Action\")\n",
    "    system.add_movie(\"Interstellar\", \"Sci-Fi\")\n",
    "    system.add_movie(\"Toy Story\", \"Animation\")\n",
    "    system.add_movie(\"The Godfather\", \"Drama\")\n",
    "    \n",
    "    # Adding users\n",
    "    system.add_user(\"Alice\", [\"Sci-Fi\", \"Drama\"])\n",
    "    system.add_user(\"Bob\", [\"Action\", \"Animation\"])\n",
    "    system.add_user(\"Charlie\", [\"Drama\", \"Animation\"])\n",
    "\n",
    "    # Recommend movies for all users\n",
    "    system.recommend_for_all_users()\n"
   ]
  },
  {
   "cell_type": "code",
   "execution_count": null,
   "id": "5df20fd7-e8a8-40ad-92c2-d12e09c72654",
   "metadata": {},
   "outputs": [],
   "source": []
  }
 ],
 "metadata": {
  "kernelspec": {
   "display_name": "Python 3 (ipykernel)",
   "language": "python",
   "name": "python3"
  },
  "language_info": {
   "codemirror_mode": {
    "name": "ipython",
    "version": 3
   },
   "file_extension": ".py",
   "mimetype": "text/x-python",
   "name": "python",
   "nbconvert_exporter": "python",
   "pygments_lexer": "ipython3",
   "version": "3.12.4"
  }
 },
 "nbformat": 4,
 "nbformat_minor": 5
}
