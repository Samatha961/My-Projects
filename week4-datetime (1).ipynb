{
 "cells": [
  {
   "cell_type": "code",
   "execution_count": 9,
   "id": "c6865ccd-e59c-4bdf-97d4-793a7b705206",
   "metadata": {},
   "outputs": [
    {
     "name": "stdin",
     "output_type": "stream",
     "text": [
      "Write your journal entry for today:  i eat biryani for the frist time\n"
     ]
    },
    {
     "name": "stdout",
     "output_type": "stream",
     "text": [
      "Entry saved for 2024-10-07.\n"
     ]
    },
    {
     "name": "stdin",
     "output_type": "stream",
     "text": [
      "Enter the date of the journal entry to retrieve (YYYY-MM-DD):  2024-10-07\n"
     ]
    },
    {
     "name": "stdout",
     "output_type": "stream",
     "text": [
      "Journal entry for 2024-10-07:\n",
      "i eat biryani for the frist time\n"
     ]
    }
   ],
   "source": [
    "import os\n",
    "from datetime import datetime\n",
    "\n",
    "# Function to write a journal entry\n",
    "date_today = datetime.now().strftime(\"%Y-%m-%d\")  # Get today's date in YYYY-MM-DD format\n",
    "entry = input(\"Write your journal entry for today: \")\n",
    "\n",
    "# Save the entry to a file named after today's date\n",
    "file_name = f\"{date_today}.txt\"\n",
    "with open(file_name, \"w\") as file:\n",
    "    file.write(entry)\n",
    "\n",
    "print(f\"Entry saved for {date_today}.\")\n",
    "\n",
    "# Function to retrieve an entry by date\n",
    "entry_date = input(\"Enter the date of the journal entry to retrieve (YYYY-MM-DD): \")\n",
    "file_name = f\"{entry_date}.txt\"\n",
    "\n",
    "if os.path.exists(file_name):\n",
    "    with open(file_name, \"r\") as file:\n",
    "        print(f\"Journal entry for {entry_date}:\")\n",
    "        print(file.read())\n",
    "else:\n",
    "    print(f\"No entry found for {entry_date}.\")"
   ]
  },
  {
   "cell_type": "code",
   "execution_count": null,
   "id": "34996486-7c50-40ba-8617-233032ec2c46",
   "metadata": {},
   "outputs": [],
   "source": []
  }
 ],
 "metadata": {
  "kernelspec": {
   "display_name": "Python 3 (ipykernel)",
   "language": "python",
   "name": "python3"
  },
  "language_info": {
   "codemirror_mode": {
    "name": "ipython",
    "version": 3
   },
   "file_extension": ".py",
   "mimetype": "text/x-python",
   "name": "python",
   "nbconvert_exporter": "python",
   "pygments_lexer": "ipython3",
   "version": "3.12.4"
  }
 },
 "nbformat": 4,
 "nbformat_minor": 5
}
