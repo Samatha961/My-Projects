{
 "cells": [
  {
   "cell_type": "code",
   "execution_count": 1,
   "id": "d1d22af4-5345-4937-b444-e4ae5f9142d6",
   "metadata": {},
   "outputs": [
    {
     "name": "stdout",
     "output_type": "stream",
     "text": [
      "Welcome to SAMATHA ATM machine\n",
      "Choose the operation to perform:\n",
      "1.Balance Enquiry\n",
      "2.Withdraw Amount\n",
      "3.Deposit Amount\n"
     ]
    },
    {
     "name": "stdin",
     "output_type": "stream",
     "text": [
      "choose a operation listed above 1\n"
     ]
    },
    {
     "name": "stdout",
     "output_type": "stream",
     "text": [
      "Current_Balance is:  100000\n"
     ]
    },
    {
     "name": "stdin",
     "output_type": "stream",
     "text": [
      "enter ABC for another transaction/  DEF to exist 2\n"
     ]
    }
   ],
   "source": [
    "current_balance=100000# assigned a value to global variable\n",
    "\n",
    "def Banking_Project():# defined fucntion here\n",
    "    global current_balance #declaring global variable to reuse in multiple function\n",
    "\n",
    "   \n",
    "while True:#loop repeats untill we break\n",
    "    \n",
    "    try:#except handling \n",
    "        \n",
    "        \n",
    "        print(\"Welcome to SAMATHA ATM machine\")\n",
    "        print(\"Choose the operation to perform:\")\n",
    "        print(\"1.Balance Enquiry\")\n",
    "        print(\"2.Withdraw Amount\")\n",
    "        print(\"3.Deposit Amount\")\n",
    "        choice_input=int(input(\"choose a operation listed above\"))#taking input from user to choose operation for 1,2,3\n",
    "        \n",
    "        if choice_input==1:\n",
    "            #current_balance\n",
    "            \n",
    "            print(\"Current_Balance is: \",current_balance)\n",
    "            \n",
    "        elif choice_input==2:# for knowing current amount after withdrawn operation\n",
    "            \n",
    "            try:\n",
    "                withdrawn_amount=int(input(\"enter amount to be withdrawn from current balance\"))\n",
    "                if withdrawn_amount<0 or withdrawn_amount>current_balance:\n",
    "                    print(\"entered amount is not valid, please enter valid amount\")\n",
    "                else:\n",
    "                    \n",
    "                    current_balance=current_balance-withdrawn_amount\n",
    "                    print(f\"Current_Balance : {current_balance}after withdrawn amount of {withdrawn_amount}\")\n",
    "                    \n",
    "            except Exception as e:\n",
    "                print(e)\n",
    "        elif  choice_input==3: #for knowing curret amount after deposting amount\n",
    "            \n",
    "            \n",
    "            try:\n",
    "                Amount_to_deposit=int(input(\"enter amount to deposit\"))\n",
    "                if Amount_to_deposit<0:\n",
    "                    print(\"invalid amount!\")\n",
    "                else:\n",
    "                    current_balance=current_balance+Amount_to_deposit\n",
    "                    print(f\"Current_Balance : {current_balance}after deposit of {Amount_after_deposit}\")\n",
    "                    \n",
    "            except Exception as e:\n",
    "                print(e)\n",
    "        else:\n",
    "            print(\"enter an invalid operation choice\")\n",
    "    except Exception as e:\n",
    "        print(e)\n",
    "        #here asking to user whether to exit from operation or to continue for next operation, i used strip and upper method \n",
    "    another_transaction=input(\"enter ABC for another transaction/  DEF to exist\").strip().upper()\n",
    "    if another_transaction!=\"ABC\":\n",
    "        break\n",
    "        \n",
    "\n",
    "Banking_Project()# calling function to run program"
   ]
  },
  {
   "cell_type": "code",
   "execution_count": null,
   "id": "900842a6-c3f1-4b3e-bf07-63fed05a679f",
   "metadata": {},
   "outputs": [],
   "source": []
  }
 ],
 "metadata": {
  "kernelspec": {
   "display_name": "Python 3 (ipykernel)",
   "language": "python",
   "name": "python3"
  },
  "language_info": {
   "codemirror_mode": {
    "name": "ipython",
    "version": 3
   },
   "file_extension": ".py",
   "mimetype": "text/x-python",
   "name": "python",
   "nbconvert_exporter": "python",
   "pygments_lexer": "ipython3",
   "version": "3.12.4"
  }
 },
 "nbformat": 4,
 "nbformat_minor": 5
}
