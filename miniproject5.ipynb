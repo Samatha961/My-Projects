{
 "cells": [
  {
   "cell_type": "code",
   "execution_count": 1,
   "id": "d17e1f9b-90f8-4a79-9161-e8e050aea0b1",
   "metadata": {},
   "outputs": [
    {
     "name": "stdout",
     "output_type": "stream",
     "text": [
      "Enter Marks Obtained in 5 Subjects: \n",
      "Your Grade is B1\n"
     ]
    }
   ],
   "source": [
    "print(\"Enter Marks Obtained in 5 Subjects: \")\n",
    "total1 = 44\n",
    "total2 = 67\n",
    "total3 = 76\n",
    "total4 = 99\n",
    "total5 = 58\n",
    " \n",
    "tot = total1 + total2 + total3 + total4 + total4\n",
    "avg = tot / 5\n",
    " \n",
    "if avg >= 91 and avg <= 100:\n",
    "    print(\"Your Grade is A1\")\n",
    "elif avg >= 81 and avg < 91:\n",
    "    print(\"Your Grade is A2\")\n",
    "elif avg >= 71 and avg < 81:\n",
    "    print(\"Your Grade is B1\")\n",
    "elif avg >= 61 and avg < 71:\n",
    "    print(\"Your Grade is B2\")\n",
    "elif avg >= 51 and avg < 61:\n",
    "    print(\"Your Grade is C1\")\n",
    "elif avg >= 41 and avg < 51:\n",
    "    print(\"Your Grade is C2\")\n",
    "elif avg >= 33 and avg < 41:\n",
    "    print(\"Your Grade is D\")\n",
    "elif avg >= 21 and avg < 33:\n",
    "    print(\"Your Grade is E1\")\n",
    "elif avg >= 0 and avg < 21:\n",
    "    print(\"Your Grade is E2\")\n",
    "else:\n",
    "    print(\"Invalid Input!\")"
   ]
  },
  {
   "cell_type": "code",
   "execution_count": null,
   "id": "0ec9e68c-8c95-4903-8a85-661c06843a9e",
   "metadata": {},
   "outputs": [],
   "source": []
  }
 ],
 "metadata": {
  "kernelspec": {
   "display_name": "Python 3 (ipykernel)",
   "language": "python",
   "name": "python3"
  },
  "language_info": {
   "codemirror_mode": {
    "name": "ipython",
    "version": 3
   },
   "file_extension": ".py",
   "mimetype": "text/x-python",
   "name": "python",
   "nbconvert_exporter": "python",
   "pygments_lexer": "ipython3",
   "version": "3.12.4"
  }
 },
 "nbformat": 4,
 "nbformat_minor": 5
}
