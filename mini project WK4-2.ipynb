{
 "cells": [
  {
   "cell_type": "code",
   "execution_count": 1,
   "id": "b1ca57b8-d190-4580-a2c9-075dea6d01b4",
   "metadata": {},
   "outputs": [
    {
     "name": "stdout",
     "output_type": "stream",
     "text": [
      "Your monthly savings are: $2300.0\n"
     ]
    }
   ],
   "source": [
    "import csv\n",
    "from datetime import datetime\n",
    "\n",
    "# File to save the budget data\n",
    "file_name = \"budget.csv\"\n",
    "\n",
    "# Function to add income or expense\n",
    "def add_transaction(transaction_type, amount, description):\n",
    "    date = datetime.now().strftime(\"%Y-%m-%d\")\n",
    "    with open(file_name, mode='a', newline='') as file:\n",
    "        writer = csv.writer(file)\n",
    "        writer.writerow([date, transaction_type, amount, description])\n",
    "\n",
    "# Function to calculate monthly savings\n",
    "def calculate_savings():\n",
    "    total_income = 0\n",
    "    total_expense = 0\n",
    "    with open(file_name, mode='r') as file:\n",
    "        reader = csv.reader(file)\n",
    "        for row in reader:\n",
    "            transaction_type, amount = row[1], float(row[2])\n",
    "            if transaction_type == \"Income\":\n",
    "                total_income += amount\n",
    "            elif transaction_type == \"Expense\":\n",
    "                total_expense += amount\n",
    "    return total_income - total_expense\n",
    "\n",
    "# Example Usage\n",
    "add_transaction(\"Income\", 3000, \"Salary\")\n",
    "add_transaction(\"Expense\", 500, \"Groceries\")\n",
    "add_transaction(\"Expense\", 200, \"Utilities\")\n",
    "\n",
    "monthly_savings = calculate_savings()\n",
    "print(f\"Your monthly savings are: ${monthly_savings}\")"
   ]
  },
  {
   "cell_type": "code",
   "execution_count": null,
   "id": "c557c7f0-d55f-49ea-8e7e-a3dfd05be5af",
   "metadata": {},
   "outputs": [],
   "source": []
  }
 ],
 "metadata": {
  "kernelspec": {
   "display_name": "Python 3 (ipykernel)",
   "language": "python",
   "name": "python3"
  },
  "language_info": {
   "codemirror_mode": {
    "name": "ipython",
    "version": 3
   },
   "file_extension": ".py",
   "mimetype": "text/x-python",
   "name": "python",
   "nbconvert_exporter": "python",
   "pygments_lexer": "ipython3",
   "version": "3.12.4"
  }
 },
 "nbformat": 4,
 "nbformat_minor": 5
}
