{
 "cells": [
  {
   "cell_type": "code",
   "execution_count": 1,
   "id": "15b7f993-9458-49d3-b004-07d7ff6d2270",
   "metadata": {},
   "outputs": [
    {
     "name": "stdin",
     "output_type": "stream",
     "text": [
      "enter city name jagtial\n"
     ]
    },
    {
     "name": "stdout",
     "output_type": "stream",
     "text": [
      "Temperature:23ºC,humidity:50%,condition:sunny\n"
     ]
    },
    {
     "name": "stdin",
     "output_type": "stream",
     "text": [
      "enter 'SAM' to exit / enter 'MAHI' to try again MAHI\n",
      "enter city name wanparthy\n"
     ]
    },
    {
     "name": "stdout",
     "output_type": "stream",
     "text": [
      "Temperature:34ºC,humidity:45%,condition:cloudy\n"
     ]
    },
    {
     "name": "stdin",
     "output_type": "stream",
     "text": [
      "enter 'SAM' to exit / enter 'MAHI' to try again MAHI\n",
      "enter city name mahaboobnagar\n"
     ]
    },
    {
     "name": "stdout",
     "output_type": "stream",
     "text": [
      "Temperature:23ºC,humidity:34%,condition:rainy\n"
     ]
    },
    {
     "name": "stdin",
     "output_type": "stream",
     "text": [
      "enter 'SAM' to exit / enter 'MAHI' to try again SAM\n"
     ]
    }
   ],
   "source": [
    "weather_data={'jagtial':{'temperature':23, 'humidity':50,'condition':'sunny'},'wanparthy':{'temperature':34, 'humidity':45,'condition':'cloudy'},'mahaboobnagar':{'temperature':23, 'humidity':34,'condition':'rainy'}}\n",
    "def basic_weather_lookup():\n",
    "    while True:\n",
    "        input_city_name=input(\"enter city name\")\n",
    "        if input_city_name in weather_data:\n",
    "            weather_format=lambda data:f\"Temperature:{data['temperature']}ºC,humidity:{data['humidity']}%,condition:{data['condition']}\"\n",
    "            weather_result=weather_data[input_city_name]\n",
    "            print(weather_format(weather_result))\n",
    "        else:\n",
    "            print(\"city is not found!, please enter valid city name\")\n",
    "        try_again=input(\"enter 'SAM' to exit / enter 'MAHI' to try again\").strip().upper()\n",
    "        if try_again!='MAHI':\n",
    "            break\n",
    "basic_weather_lookup()"
   ]
  },
  {
   "cell_type": "code",
   "execution_count": null,
   "id": "b2181b49-a094-466f-9e3a-c907339b7c91",
   "metadata": {},
   "outputs": [],
   "source": []
  }
 ],
 "metadata": {
  "kernelspec": {
   "display_name": "Python 3 (ipykernel)",
   "language": "python",
   "name": "python3"
  },
  "language_info": {
   "codemirror_mode": {
    "name": "ipython",
    "version": 3
   },
   "file_extension": ".py",
   "mimetype": "text/x-python",
   "name": "python",
   "nbconvert_exporter": "python",
   "pygments_lexer": "ipython3",
   "version": "3.12.4"
  }
 },
 "nbformat": 4,
 "nbformat_minor": 5
}
