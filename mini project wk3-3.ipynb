{
 "cells": [
  {
   "cell_type": "code",
   "execution_count": 1,
   "id": "e640528c-2f5b-4f5d-836c-775a841121cb",
   "metadata": {},
   "outputs": [
    {
     "name": "stdout",
     "output_type": "stream",
     "text": [
      "Total characters (excluding spaces): 126\n",
      "Unique words: 20\n",
      "Word frequencies:\n",
      "python: 2\n",
      "is: 3\n",
      "great: 1\n",
      "dynamic: 1\n",
      "and: 2\n",
      "versatile: 1\n",
      "it: 1\n",
      "used: 1\n",
      "in: 1\n",
      "various: 1\n",
      "fields: 1\n",
      "such: 1\n",
      "as: 1\n",
      "web: 1\n",
      "development: 1\n",
      "data: 1\n",
      "analysis: 1\n",
      "artificial: 1\n",
      "intelligence: 1\n",
      "more: 1\n"
     ]
    }
   ],
   "source": [
    "def text_analyzer(text):\n",
    "    # Remove punctuation and convert to lower case\n",
    "    text = text.lower().replace(',', '').replace('.', '').replace('!', '').replace('?', '')\n",
    "    \n",
    "    # Split the text into words using a list\n",
    "    words = text.split()\n",
    "    \n",
    "    # Calculate the total number of characters (excluding spaces)\n",
    "    char_count = len(text.replace(' ', ''))\n",
    "\n",
    "    # Use a set to find unique words\n",
    "    unique_words = set(words)\n",
    "\n",
    "    # Use a dictionary to count word frequencies\n",
    "    word_count = {}\n",
    "    for word in words:\n",
    "        if word in word_count:\n",
    "            word_count[word] += 1\n",
    "        else:\n",
    "            word_count[word] = 1\n",
    "\n",
    "    # Display the results\n",
    "    print(f\"Total characters (excluding spaces): {char_count}\")\n",
    "    print(f\"Unique words: {len(unique_words)}\")\n",
    "    print(\"Word frequencies:\")\n",
    "    for word, count in word_count.items():\n",
    "        print(f\"{word}: {count}\")\n",
    "\n",
    "# Example usage\n",
    "if __name__ == \"__main__\":\n",
    "    paragraph = \"\"\"Python is great! Python is dynamic and versatile. \n",
    "                   It is used in various fields such as web development, data analysis, \n",
    "                   artificial intelligence, and more.\"\"\"\n",
    "    text_analyzer(paragraph)\n"
   ]
  },
  {
   "cell_type": "code",
   "execution_count": null,
   "id": "d83da37e-67be-4ac4-be7e-5aa3ddbac58e",
   "metadata": {},
   "outputs": [],
   "source": []
  }
 ],
 "metadata": {
  "kernelspec": {
   "display_name": "Python 3 (ipykernel)",
   "language": "python",
   "name": "python3"
  },
  "language_info": {
   "codemirror_mode": {
    "name": "ipython",
    "version": 3
   },
   "file_extension": ".py",
   "mimetype": "text/x-python",
   "name": "python",
   "nbconvert_exporter": "python",
   "pygments_lexer": "ipython3",
   "version": "3.12.4"
  }
 },
 "nbformat": 4,
 "nbformat_minor": 5
}
