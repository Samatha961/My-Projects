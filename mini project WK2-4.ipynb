{
 "cells": [
  {
   "cell_type": "code",
   "execution_count": 1,
   "id": "3beeaaf4-629a-45f5-9830-0018cac1251b",
   "metadata": {},
   "outputs": [
    {
     "name": "stdout",
     "output_type": "stream",
     "text": [
      "System generated number (for testing purposes): 6\n"
     ]
    },
    {
     "name": "stdin",
     "output_type": "stream",
     "text": [
      "Enter a random guess number between 1 and 20:  1\n"
     ]
    },
    {
     "name": "stdout",
     "output_type": "stream",
     "text": [
      "Warm! You're getting closer.\n"
     ]
    },
    {
     "name": "stdin",
     "output_type": "stream",
     "text": [
      "Enter a random guess number between 1 and 20:  4\n"
     ]
    },
    {
     "name": "stdout",
     "output_type": "stream",
     "text": [
      "Very hot! You are very close!\n"
     ]
    },
    {
     "name": "stdin",
     "output_type": "stream",
     "text": [
      "Enter a random guess number between 1 and 20:  6\n"
     ]
    },
    {
     "name": "stdout",
     "output_type": "stream",
     "text": [
      "You win! Hurrahhh! You guessed the correct number in 2 attempts.\n",
      "Your final score is 80\n"
     ]
    }
   ],
   "source": [
    "import random  # Import the random module\n",
    "\n",
    "# Generate a random number between 1 and 20\n",
    "system_generated_number = random.randint(1, 20)\n",
    "print(\"System generated number (for testing purposes):\", system_generated_number)\n",
    "\n",
    "# Function to play the advanced guessing game\n",
    "def advanced_random_guess_number():\n",
    "    attempts = 0  # Track the number of attempts\n",
    "    score = 100  # Starting score, decreases with each wrong guess\n",
    "    \n",
    "    while True:\n",
    "        try:\n",
    "            # Get user input\n",
    "            user_guessed_number = int(input(\"Enter a random guess number between 1 and 20: \"))\n",
    "            differnce_number = abs(user_guessed_number - system_generated_number)  # Absolute difference\n",
    "\n",
    "            # Win condition\n",
    "            if differnce_number == 0:\n",
    "                print(f\"You win! Hurrahhh! You guessed the correct number in {attempts} attempts.\")\n",
    "                break  # Exit the loop since the user won\n",
    "\n",
    "            # Provide hints based on the difference\n",
    "            elif differnce_number <= 2:\n",
    "                print(\"Very hot! You are very close!\")\n",
    "            elif differnce_number <= 5:\n",
    "                print(\"Warm! You're getting closer.\")\n",
    "            elif differnce_number <= 10:\n",
    "                print(\"Cool. You're not too far.\")\n",
    "            else:\n",
    "                print(\"Too cold! You're far from the correct number.\")\n",
    "\n",
    "            # Decrease score and increment attempts\n",
    "            score -= 10\n",
    "            attempts += 1\n",
    "\n",
    "        except ValueError:\n",
    "            print(\"Invalid input! Please enter a valid number.\")\n",
    "\n",
    "    print(f\"Your final score is {score}\")\n",
    "\n",
    "# Call the function to play the game\n",
    "advanced_random_guess_number()"
   ]
  },
  {
   "cell_type": "code",
   "execution_count": null,
   "id": "bcb9f8bf-61b4-43c9-892a-585d35c90970",
   "metadata": {},
   "outputs": [],
   "source": []
  }
 ],
 "metadata": {
  "kernelspec": {
   "display_name": "Python 3 (ipykernel)",
   "language": "python",
   "name": "python3"
  },
  "language_info": {
   "codemirror_mode": {
    "name": "ipython",
    "version": 3
   },
   "file_extension": ".py",
   "mimetype": "text/x-python",
   "name": "python",
   "nbconvert_exporter": "python",
   "pygments_lexer": "ipython3",
   "version": "3.12.4"
  }
 },
 "nbformat": 4,
 "nbformat_minor": 5
}
