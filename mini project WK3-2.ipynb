{
 "cells": [
  {
   "cell_type": "code",
   "execution_count": 31,
   "id": "98c40d56-b397-4791-ae96-7abd291668f0",
   "metadata": {},
   "outputs": [
    {
     "name": "stdout",
     "output_type": "stream",
     "text": [
      "sam: Phone: 9440050065, Email: sam@gmail.com\n",
      "mahi: Phone: 9848276340, Email: mahi@yahoo.com\n",
      "Contact for Charlie added/updated successfully!\n",
      "Name: sam, Phone: 9440050065, Email: sam@gmail.com\n",
      "Contacts with Gmail:\n",
      "Name: sam, Phone: 9440050065, Email: sam@gmail.com\n",
      "Name: Charlie, Phone: 555-555-5555, Email: charlie@gmail.com\n"
     ]
    }
   ],
   "source": [
    "contacts = {\n",
    "    \"sam\": {\"phone\": \"9440050065\", \"email\": \"sam@gmail.com\"},\n",
    "    \"mahi\": {\"phone\": \"9848276340\", \"email\": \"mahi@yahoo.com\"}\n",
    "}\n",
    "\n",
    "# Displaying contacts\n",
    "def display_contacts():\n",
    "    for name, details in contacts.items():\n",
    "        print(f\"{name}: Phone: {details['phone']}, Email: {details['email']}\")\n",
    "\n",
    "def add_update_contact(name, phone, email):\n",
    "    contacts[name] = {'phone': phone, 'email': email}\n",
    "    print(f\"Contact for {name} added/updated successfully!\")\n",
    "\n",
    "# Search for a contact\n",
    "def search_contact(name):\n",
    "    if name in contacts:\n",
    "        print(f\"Name: {name}, Phone: {contacts[name]['phone']}, Email: {contacts[name]['email']}\")\n",
    "    else:\n",
    "        print(f\"No contact found for {name}\")\n",
    "\n",
    "# Filter Gmail contacts\n",
    "def filter_gmail_contacts():\n",
    "    gmail_contacts = {name: details for name, details in contacts.items() if 'gmail.com' in details['email']}\n",
    "    print(\"Contacts with Gmail:\")\n",
    "    for name, details in gmail_contacts.items():\n",
    "        print(f\"Name: {name}, Phone: {details['phone']}, Email: {details['email']}\")\n",
    "\n",
    "# Function calls\n",
    "display_contacts()  # Displays all contacts\n",
    "add_update_contact('Charlie', '555-555-5555', 'charlie@gmail.com')  \n",
    "search_contact('sam')\n",
    "filter_gmail_contacts()\n"
   ]
  },
  {
   "cell_type": "code",
   "execution_count": null,
   "id": "0c6e4530-45b9-4be8-bc17-7fc8ee5b64a9",
   "metadata": {},
   "outputs": [],
   "source": []
  }
 ],
 "metadata": {
  "kernelspec": {
   "display_name": "Python 3 (ipykernel)",
   "language": "python",
   "name": "python3"
  },
  "language_info": {
   "codemirror_mode": {
    "name": "ipython",
    "version": 3
   },
   "file_extension": ".py",
   "mimetype": "text/x-python",
   "name": "python",
   "nbconvert_exporter": "python",
   "pygments_lexer": "ipython3",
   "version": "3.12.4"
  }
 },
 "nbformat": 4,
 "nbformat_minor": 5
}
