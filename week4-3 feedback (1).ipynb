{
 "cells": [
  {
   "cell_type": "code",
   "execution_count": 1,
   "id": "2f89aea3-3f61-4b73-a521-ec49c120fef0",
   "metadata": {},
   "outputs": [
    {
     "name": "stdout",
     "output_type": "stream",
     "text": [
      "Requirement already satisfied: textblob in c:\\users\\sweety\\anaconda3\\lib\\site-packages (0.18.0.post0)\n",
      "Requirement already satisfied: nltk>=3.8 in c:\\users\\sweety\\anaconda3\\lib\\site-packages (from textblob) (3.8.1)\n",
      "Requirement already satisfied: click in c:\\users\\sweety\\appdata\\roaming\\python\\python312\\site-packages (from nltk>=3.8->textblob) (8.1.7)\n",
      "Requirement already satisfied: joblib in c:\\users\\sweety\\anaconda3\\lib\\site-packages (from nltk>=3.8->textblob) (1.4.2)\n",
      "Requirement already satisfied: regex>=2021.8.3 in c:\\users\\sweety\\anaconda3\\lib\\site-packages (from nltk>=3.8->textblob) (2023.10.3)\n",
      "Requirement already satisfied: tqdm in c:\\users\\sweety\\anaconda3\\lib\\site-packages (from nltk>=3.8->textblob) (4.66.4)\n",
      "Requirement already satisfied: colorama in c:\\users\\sweety\\appdata\\roaming\\python\\python312\\site-packages (from click->nltk>=3.8->textblob) (0.4.6)\n",
      "Note: you may need to restart the kernel to use updated packages.\n"
     ]
    }
   ],
   "source": [
    "pip install textblob"
   ]
  },
  {
   "cell_type": "code",
   "execution_count": 15,
   "id": "cfa2996c-f74d-4638-83a9-52b42ac67887",
   "metadata": {},
   "outputs": [
    {
     "name": "stdout",
     "output_type": "stream",
     "text": [
      "\n",
      "--- Customer Feedback Summary Report ---\n",
      "Total Feedbacks: 5\n",
      "Positive Feedbacks: 2 (40.00%)\n",
      "Negative Feedbacks: 3 (60.00%)\n",
      "Neutral Feedbacks: 0 (0.00%)\n",
      "------------------------------------------\n"
     ]
    }
   ],
   "source": [
    "import os\n",
    "from textblob import TextBlob\n",
    "import csv\n",
    "\n",
    "# Function to read customer feedback from a file\n",
    "def read_feedback(file_path):\n",
    "    feedbacks = []\n",
    "    if not os.path.exists(file_path):\n",
    "        print(f\"No feedback file found at {file_path}.\")\n",
    "        return feedbacks\n",
    "    \n",
    "    with open(file_path, 'r', encoding='utf-8') as file:\n",
    "        reader = csv.reader(file)\n",
    "        for row in reader:\n",
    "            if row:  # Skip empty rows\n",
    "                feedbacks.append(row[0])  # Assuming feedback is in the first column\n",
    "    return feedbacks\n",
    "\n",
    "# Function to analyze sentiment of feedback\n",
    "def analyze_sentiment(feedbacks):\n",
    "    positive, negative, neutral = 0, 0, 0\n",
    "    for feedback in feedbacks:\n",
    "        analysis = TextBlob(feedback)\n",
    "        # Classify sentiment based on polarity\n",
    "        if analysis.sentiment.polarity > 0:\n",
    "            positive += 1\n",
    "        elif analysis.sentiment.polarity < 0:\n",
    "            negative += 1\n",
    "        else:\n",
    "            neutral += 1\n",
    "    return positive, negative, neutral\n",
    "\n",
    "# Function to generate summary report\n",
    "def generate_report(positive, negative, neutral, total):\n",
    "    print(\"\\n--- Customer Feedback Summary Report ---\")\n",
    "    print(f\"Total Feedbacks: {total}\")\n",
    "    print(f\"Positive Feedbacks: {positive} ({(positive / total) * 100:.2f}%)\")\n",
    "    print(f\"Negative Feedbacks: {negative} ({(negative / total) * 100:.2f}%)\")\n",
    "    print(f\"Neutral Feedbacks: {neutral} ({(neutral / total) * 100:.2f}%)\")\n",
    "    print(\"------------------------------------------\")\n",
    "\n",
    "# Main function\n",
    "def feedback_aggregator():\n",
    "    file_path = \"customer_feedback.csv\"  # Path to your feedback file\n",
    "    feedbacks = read_feedback(file_path)\n",
    "    \n",
    "    if not feedbacks:\n",
    "        return\n",
    "    \n",
    "    positive, negative, neutral = analyze_sentiment(feedbacks)\n",
    "    total = len(feedbacks)\n",
    "    generate_report(positive, negative, neutral, total)\n",
    "\n",
    "# Run the feedback aggregator\n",
    "feedback_aggregator()\n"
   ]
  },
  {
   "cell_type": "code",
   "execution_count": null,
   "id": "870c3006-b55c-4973-adb4-fa62f479bc4c",
   "metadata": {},
   "outputs": [],
   "source": []
  },
  {
   "cell_type": "code",
   "execution_count": null,
   "id": "02112f2c-6677-4ef3-a720-382f0a3e5e18",
   "metadata": {},
   "outputs": [],
   "source": []
  }
 ],
 "metadata": {
  "kernelspec": {
   "display_name": "Python 3 (ipykernel)",
   "language": "python",
   "name": "python3"
  },
  "language_info": {
   "codemirror_mode": {
    "name": "ipython",
    "version": 3
   },
   "file_extension": ".py",
   "mimetype": "text/x-python",
   "name": "python",
   "nbconvert_exporter": "python",
   "pygments_lexer": "ipython3",
   "version": "3.12.4"
  }
 },
 "nbformat": 4,
 "nbformat_minor": 5
}
