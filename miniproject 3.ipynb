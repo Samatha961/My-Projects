{
 "cells": [
  {
   "cell_type": "code",
   "execution_count": 1,
   "id": "8361b1f8-0457-441c-9a2c-fe2bc3d10955",
   "metadata": {},
   "outputs": [
    {
     "name": "stdin",
     "output_type": "stream",
     "text": [
      "Enter the temperature:  25\n",
      "Enter the unit of temperature (C/F/K):  C\n",
      "Enter the unit to convert to (C/F/K):  F\n"
     ]
    },
    {
     "name": "stdout",
     "output_type": "stream",
     "text": [
      "25.0 C is equal to 77.00 F\n"
     ]
    }
   ],
   "source": [
    "def convert_temperature(temp, from_unit, to_unit):\n",
    "    if from_unit == 'C':\n",
    "        if to_unit == 'F':\n",
    "            return (temp * 9/5) + 32\n",
    "        elif to_unit == 'K':\n",
    "            return temp + 273.15\n",
    "    elif from_unit == 'F':\n",
    "        if to_unit == 'C':\n",
    "            return (temp - 32) * 5/9\n",
    "        elif to_unit == 'K':\n",
    "            return (temp - 32) * 5/9 + 273.15\n",
    "    elif from_unit == 'K':\n",
    "        if to_unit == 'C':\n",
    "            return temp - 273.15\n",
    "        elif to_unit == 'F':\n",
    "            return (temp - 273.15) * 9/5 + 32\n",
    "    return None  # Invalid conversion\n",
    "# Get input from the user\n",
    "temperature = float(input(\"Enter the temperature: \"))\n",
    "unit_from = input(\"Enter the unit of temperature (C/F/K): \").upper()\n",
    "unit_to = input(\"Enter the unit to convert to (C/F/K): \").upper()\n",
    "\n",
    "# Convert the temperature\n",
    "converted_temp = convert_temperature(temperature, unit_from, unit_to)\n",
    "\n",
    "# Display the result\n",
    "if converted_temp is not None:\n",
    "    print(f\"{temperature} {unit_from} is equal to {converted_temp:.2f} {unit_to}\")\n",
    "else:\n",
    "    print(\"Invalid conversion units.\")"
   ]
  },
  {
   "cell_type": "code",
   "execution_count": null,
   "id": "4810c711-ce93-493f-81e3-da5c53e9debc",
   "metadata": {},
   "outputs": [],
   "source": []
  }
 ],
 "metadata": {
  "kernelspec": {
   "display_name": "Python 3 (ipykernel)",
   "language": "python",
   "name": "python3"
  },
  "language_info": {
   "codemirror_mode": {
    "name": "ipython",
    "version": 3
   },
   "file_extension": ".py",
   "mimetype": "text/x-python",
   "name": "python",
   "nbconvert_exporter": "python",
   "pygments_lexer": "ipython3",
   "version": "3.12.4"
  }
 },
 "nbformat": 4,
 "nbformat_minor": 5
}
